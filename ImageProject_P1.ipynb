{
  "nbformat": 4,
  "nbformat_minor": 0,
  "metadata": {
    "colab": {
      "name": "ImageProject_P1.ipynb",
      "provenance": [],
      "collapsed_sections": [
        "HerLVDVRuvUy",
        "EMluPvxJvBE1",
        "cTteD9izv4Rk"
      ]
    },
    "kernelspec": {
      "name": "python3",
      "display_name": "Python 3"
    },
    "language_info": {
      "name": "python"
    }
  },
  "cells": [
    {
      "cell_type": "markdown",
      "source": [
        "# **Image Project Phase one: Lane Detection**\n",
        "the goal is to write a software pipeline to detect the lane boundaries in a video from a front-facing camera on a car. it’s required to find and track the lane lines and the position of the car from the center of the lane.\n",
        "As a bonus, track the radius of curvature of the road too.\n",
        "\n",
        "Assume the camera is mounted at the center of the car, such that the lane center is the midpoint at the bottom of the image between the two lines you've detected.\n",
        "\n",
        "The offset of the lane center from the center of the image (converted from pixels to meters) is your distance from the center of the lane."
      ],
      "metadata": {
        "id": "wLJP6y1luR_r"
      }
    },
    {
      "cell_type": "markdown",
      "source": [
        "# Step 0: Import Libraries"
      ],
      "metadata": {
        "id": "HerLVDVRuvUy"
      }
    },
    {
      "cell_type": "code",
      "source": [
        "import cv2\n",
        "import numpy as np\n",
        "import matplotlib.pyplot as plt\n",
        "from moviepy.editor import VideoFileClip"
      ],
      "metadata": {
        "colab": {
          "base_uri": "https://localhost:8080/"
        },
        "id": "YKz9j3Ctu13S",
        "outputId": "44ebbe86-765d-423c-edbd-2e749cf66dbe"
      },
      "execution_count": null,
      "outputs": [
        {
          "output_type": "stream",
          "name": "stdout",
          "text": [
            "Imageio: 'ffmpeg-linux64-v3.3.1' was not found on your computer; downloading it now.\n",
            "Try 1. Download from https://github.com/imageio/imageio-binaries/raw/master/ffmpeg/ffmpeg-linux64-v3.3.1 (43.8 MB)\n",
            "Downloading: 8192/45929032 bytes (0.0%)\b\b\b\b\b\b\b\b\b\b\b\b\b\b\b\b\b\b\b\b\b\b\b\b\b\b2965504/45929032 bytes (6.5%)\b\b\b\b\b\b\b\b\b\b\b\b\b\b\b\b\b\b\b\b\b\b\b\b\b\b\b\b\b6373376/45929032 bytes (13.9%)\b\b\b\b\b\b\b\b\b\b\b\b\b\b\b\b\b\b\b\b\b\b\b\b\b\b\b\b\b\b9838592/45929032 bytes (21.4%)\b\b\b\b\b\b\b\b\b\b\b\b\b\b\b\b\b\b\b\b\b\b\b\b\b\b\b\b\b\b13418496/45929032 bytes (29.2%)\b\b\b\b\b\b\b\b\b\b\b\b\b\b\b\b\b\b\b\b\b\b\b\b\b\b\b\b\b\b\b16785408/45929032 bytes (36.5%)\b\b\b\b\b\b\b\b\b\b\b\b\b\b\b\b\b\b\b\b\b\b\b\b\b\b\b\b\b\b\b20103168/45929032 bytes (43.8%)\b\b\b\b\b\b\b\b\b\b\b\b\b\b\b\b\b\b\b\b\b\b\b\b\b\b\b\b\b\b\b23502848/45929032 bytes (51.2%)\b\b\b\b\b\b\b\b\b\b\b\b\b\b\b\b\b\b\b\b\b\b\b\b\b\b\b\b\b\b\b26845184/45929032 bytes (58.4%)\b\b\b\b\b\b\b\b\b\b\b\b\b\b\b\b\b\b\b\b\b\b\b\b\b\b\b\b\b\b\b30277632/45929032 bytes (65.9%)\b\b\b\b\b\b\b\b\b\b\b\b\b\b\b\b\b\b\b\b\b\b\b\b\b\b\b\b\b\b\b33734656/45929032 bytes (73.4%)\b\b\b\b\b\b\b\b\b\b\b\b\b\b\b\b\b\b\b\b\b\b\b\b\b\b\b\b\b\b\b37167104/45929032 bytes (80.9%)\b\b\b\b\b\b\b\b\b\b\b\b\b\b\b\b\b\b\b\b\b\b\b\b\b\b\b\b\b\b\b40583168/45929032 bytes (88.4%)\b\b\b\b\b\b\b\b\b\b\b\b\b\b\b\b\b\b\b\b\b\b\b\b\b\b\b\b\b\b\b44089344/45929032 bytes (96.0%)\b\b\b\b\b\b\b\b\b\b\b\b\b\b\b\b\b\b\b\b\b\b\b\b\b\b\b\b\b\b\b45929032/45929032 bytes (100.0%)\n",
            "  Done\n",
            "File saved as /root/.imageio/ffmpeg/ffmpeg-linux64-v3.3.1.\n"
          ]
        }
      ]
    },
    {
      "cell_type": "markdown",
      "source": [
        "# Step 1: Prespective Transformation Function (Bird's Eye)"
      ],
      "metadata": {
        "id": "EMluPvxJvBE1"
      }
    },
    {
      "cell_type": "code",
      "source": [
        "\"\"\"Transformation Function (Normal ---> Bird'sEye)\"\"\"\n",
        "def bird_forward(img, img_size=(1280, 720), flags=cv2.INTER_LINEAR):\n",
        "    #Coordinates of input image\n",
        "    input = np.float32([(550, 460),     # top-left\n",
        "                            (150, 720),     # bottom-left\n",
        "                            (1200, 720),    # bottom-right\n",
        "                            (770, 460)])    # top-right\n",
        "    #Coordinates of Output Image\n",
        "    output = np.float32([(100, 0),\n",
        "                            (100, 720),\n",
        "                            (1100, 720),\n",
        "                            (1100, 0)])\n",
        "    #Transformation Matrix Calculation (Normal --> Bird's Eye)\n",
        "    Mat = cv2.getPerspectiveTransform(input, output)\n",
        "    return cv2.warpPerspective(img, Mat, img_size, flags=flags)\n",
        "\n",
        "\"\"\"Inverse Transformation Function (Bird'sEye ---> Normal)\"\"\"\n",
        "def bird_backward(img, img_size=(1280, 720), flags=cv2.INTER_LINEAR):\n",
        "    #Coordinates of input image\n",
        "    input = np.float32([(550, 460),     # top-left\n",
        "                            (150, 720),     # bottom-left\n",
        "                            (1200, 720),    # bottom-right\n",
        "                            (770, 460)])    # top-right\n",
        "    #Coordinates of Output Image\n",
        "    output = np.float32([(100, 0),\n",
        "                            (100, 720),\n",
        "                            (1100, 720),\n",
        "                            (1100, 0)])\n",
        "    #Inverse Transformation Matrix Calculation  (Bird's Eye --> Normal)\n",
        "    Mat_inv = cv2.getPerspectiveTransform(input, output)\n",
        "    return cv2.warpPerspective(img, Mat_inv, img_size, flags=flags)"
      ],
      "metadata": {
        "id": "qNqf8Vx2vOec"
      },
      "execution_count": null,
      "outputs": []
    },
    {
      "cell_type": "markdown",
      "source": [
        "# Step 2: Lanes Detection Function "
      ],
      "metadata": {
        "id": "cTteD9izv4Rk"
      }
    },
    {
      "cell_type": "code",
      "source": [
        "\"\"\"Relative Threshold Method\"\"\"\n",
        "def threshold_rel(img, lo, hi):\n",
        "    vmin = np.min(img)\n",
        "    vmax = np.max(img)\n",
        "    vlo = vmin + (vmax - vmin) * lo\n",
        "    vhi = vmin + (vmax - vmin) * hi\n",
        "    return np.uint8((img >= vlo) & (img <= vhi)) * 255\n",
        "\n",
        "\"\"\"Absolute Threshold Method\"\"\"\n",
        "def threshold_abs(img, lo, hi):\n",
        "    return np.uint8((img >= lo) & (img <= hi)) * 255\n",
        "\n",
        "\"\"\"Lane Detection Function\"\"\"\n",
        "def lane_detection(bird_img):\n",
        "    hls = cv2.cvtColor(bird_img, cv2.COLOR_RGB2HLS)\n",
        "    hsv = cv2.cvtColor(bird_img, cv2.COLOR_RGB2HSV)\n",
        "    gray = cv2.cvtColor(bird_img, cv2.COLOR_RGB2GRAY)\n",
        "\n",
        "    h_channel = hls[:,:,0]\n",
        "    l_channel = hls[:,:,1]\n",
        "    s_channel = hls[:,:,2]\n",
        "    v_channel = hsv[:,:,2]\n",
        "\n",
        "    right_lane = threshold_rel(l_channel, 0.8, 1.0)   #White Detection\n",
        "    right_lane[:,:750] = 0\n",
        "\n",
        "    left_lane = threshold_abs(h_channel, 20, 50)      #Yellow Detection\n",
        "    left_lane &= threshold_rel(v_channel, 0.7, 1.0)   #Color Value (Strenth)\n",
        "    left_lane[:,550:] = 0\n",
        "\n",
        "    out = left_lane | right_lane                     #Compose The Two Sides\n",
        "    return out"
      ],
      "metadata": {
        "id": "tXgn5m-RwCEM"
      },
      "execution_count": null,
      "outputs": []
    },
    {
      "cell_type": "markdown",
      "source": [
        "# Step 5: Apply Functions to every Video's Frame"
      ],
      "metadata": {
        "id": "KqxuQ-lOxLqN"
      }
    },
    {
      "cell_type": "code",
      "source": [
        "\"\"\"Cumculative Function\"\"\"\n",
        "def process_image(img):\n",
        "    #Step One: Transform the prespective of image to birdeye\n",
        "    bird_img = bird_forward(img)\n",
        "    #Step Two: Lane Detection By Apply Filters\n",
        "    lane_img = lane_detection(bird_img)\n"
      ],
      "metadata": {
        "id": "xFLaF_UOxY1n"
      },
      "execution_count": null,
      "outputs": []
    }
  ]
}